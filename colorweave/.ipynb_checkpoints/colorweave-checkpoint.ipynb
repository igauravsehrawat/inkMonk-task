{
 "metadata": {
  "name": ""
 },
 "nbformat": 3,
 "nbformat_minor": 0,
 "worksheets": [
  {
   "cells": [
    {
     "cell_type": "code",
     "collapsed": false,
     "input": [
      "import os\n",
      "import struct\n",
      "import Image\n",
      "import scipy\n",
      "import scipy.misc\n",
      "import scipy.cluster\n",
      "from IPython.display import Image as IpyImage\n",
      "\n",
      "def main():\n",
      "    NUM_CLUSTERS = 5\n",
      "    print \"file_name to process\"\n",
      "    file_name = raw_input()\n",
      "    print 'reading image'\n",
      "    im = Image.open(file_name)\n",
      "    # im = im.resize((150, 150))      # optional, to reduce time\n",
      "    ar = scipy.misc.fromimage(im)\n",
      "    shape = ar.shape\n",
      "    print \"this is shape\", shape\n",
      "    ar = ar.reshape(scipy.product(shape[:2]), shape[2])\n",
      "\n",
      "    print 'finding clusters'\n",
      "    codes, dist = scipy.cluster.vq.kmeans(ar, NUM_CLUSTERS)\n",
      "    print 'cluster centres:\\n', codes\n",
      "\n",
      "    vecs, dist = scipy.cluster.vq.vq(ar, codes)         # assign codes\n",
      "    counts, bins = scipy.histogram(vecs, len(codes))    # count occurrences\n",
      "\n",
      "    print \"all bins:\", bins\n",
      "    for each_color in codes:\n",
      "        print ''.join(chr(c) for c in each_color).encode('hex')\n",
      "\n",
      "    index_max = scipy.argmax(counts)                    # find most frequent\n",
      "    peak = codes[index_max]\n",
      "    print \"peak:\", peak\n",
      "    colour = ''.join(chr(c) for c in peak).encode('hex')\n",
      "    print 'most frequent is %s (#%s)' % (peak, colour)\n",
      "    c = ar.copy()\n",
      "    for i, code in enumerate(codes):\n",
      "        c[scipy.r_[scipy.where(vecs==i)],:] = code\n",
      "    scipy.misc.imsave('clusters.png', c.reshape(*shape))\n",
      "    print 'saved clustered image'\n",
      "    print \"This is how it will get printed\"\n",
      "    IpyImage(filename=\"clusters.png\")\n",
      "    \n",
      "if __name__ == \"__main__\":\n",
      "    main()\n"
     ],
     "language": "python",
     "metadata": {},
     "outputs": [
      {
       "output_type": "stream",
       "stream": "stdout",
       "text": [
        "file_name to process\n"
       ]
      },
      {
       "name": "stdout",
       "output_type": "stream",
       "stream": "stdout",
       "text": [
        "image.jpg\n"
       ]
      },
      {
       "output_type": "stream",
       "stream": "stdout",
       "text": [
        "reading image\n",
        "this is shape (348, 400, 3)\n",
        "finding clusters\n",
        "cluster centres:\n"
       ]
      },
      {
       "output_type": "stream",
       "stream": "stdout",
       "text": [
        "[[ 55 150  76]\n",
        " [254 254 254]\n",
        " [179 219 187]\n",
        " [ 27 138  68]]\n",
        "all bins: [ 0.    0.75  1.5   2.25  3.  ]\n",
        "37964c\n",
        "fefefe\n",
        "b3dbbb\n",
        "1b8a44\n",
        "peak: [254 254 254]\n",
        "most frequent is [254 254 254] (#fefefe)\n",
        "saved clustered image\n",
        "This is how it will get printed\n"
       ]
      }
     ],
     "prompt_number": 8
    },
    {
     "cell_type": "code",
     "collapsed": false,
     "input": [
      "NUM_CLUSTERS = 5\n",
      "print \"file_name to process\"\n",
      "#     file_name = raw_input()\n",
      "for file_name in os.listdir('.'):\n",
      "    if (\"png\"  in file_name or \"jpg\" in file_name) :\n",
      "        print file_name \n",
      "    \n",
      "        print 'reading image'\n",
      "        im = Image.open(file_name)\n",
      "        im = im.resize((150, 150))      # optional, to reduce time\n",
      "        ar = scipy.misc.fromimage(im)\n",
      "        shape = ar.shape\n",
      "        print \"this is shape\", shape\n",
      "        ar = ar.reshape(scipy.product(shape[:2]), shape[2])\n",
      "        \n",
      "        print 'finding clusters'\n",
      "        codes, dist = scipy.cluster.vq.kmeans(ar, NUM_CLUSTERS)\n",
      "        print 'cluster centres:\\n', codes\n",
      "        \n",
      "        vecs, dist = scipy.cluster.vq.vq(ar, codes)         # assign codes\n",
      "        counts, bins = scipy.histogram(vecs, len(codes))    # count occurrences\n",
      "        \n",
      "        print \"all bins:\", bins\n",
      "        for each_color in codes:\n",
      "            print ''.join(chr(c) for c in each_color).encode('hex')\n",
      "        \n",
      "        index_max = scipy.argmax(counts)                    # find most frequent\n",
      "        peak = codes[index_max]\n",
      "        print \"peak:\", peak\n",
      "        colour = ''.join(chr(c) for c in peak).encode('hex')\n",
      "        print 'most frequent is %s (#%s)' % (peak, colour)\n",
      "        c = ar.copy()\n",
      "        for i, code in enumerate(codes):\n",
      "            c[scipy.r_[scipy.where(vecs==i)],:] = code\n",
      "        scipy.misc.imsave(\"clusters_\"+file_name\".png\", c.reshape(*shape))\n",
      "        print 'saved clustered image'\n",
      "        print \"This is how it will get printed\"\n",
      "        IpyImage(filename=\"clusters_\"+file_name\".png\")\n"
     ],
     "language": "python",
     "metadata": {},
     "outputs": [
      {
       "output_type": "stream",
       "stream": "stdout",
       "text": [
        "file_name to process\n",
        "rapt.png\n",
        "reading image\n",
        "this is shape"
       ]
      },
      {
       "output_type": "stream",
       "stream": "stdout",
       "text": [
        " (1650, 2550, 4)\n",
        "finding clusters\n",
        "cluster centres:\n"
       ]
      },
      {
       "output_type": "stream",
       "stream": "stdout",
       "text": [
        "[[ 58  56  56 255]\n",
        " [253 253 253 255]]\n",
        "all bins:"
       ]
      },
      {
       "output_type": "stream",
       "stream": "stdout",
       "text": [
        " [ 0.   0.5  1. ]\n",
        "3a3838ff\n",
        "fdfdfdff\n",
        "peak: [ 58  56  56 255]\n",
        "most frequent is [ 58  56  56 255] (#3a3838ff)\n",
        "saved clustered image"
       ]
      },
      {
       "output_type": "stream",
       "stream": "stdout",
       "text": [
        "\n",
        "This is how it will get printed\n",
        "logo-536d49e44a95f41663a84ed2.png\n",
        "reading image\n",
        "this is shape (242, 426, 4)\n",
        "finding clusters\n",
        "cluster centres:\n"
       ]
      },
      {
       "output_type": "stream",
       "stream": "stdout",
       "text": [
        "[[  0   0   0   0]\n",
        " [215  55   0 249]\n",
        " [241  94  40 210]\n",
        " [254 254 254   0]\n",
        " [245 136  40 254]]\n",
        "all bins: [ 0.   0.8  1.6  2.4  3.2  4. ]\n",
        "00000000\n",
        "d73700f9\n",
        "f15e28d2\n",
        "fefefe00\n",
        "f58828fe\n",
        "peak: [0 0 0 0]\n",
        "most frequent is [0 0 0 0] (#00000000)\n",
        "saved clustered image\n",
        "This is how it will get printed\n",
        "c2color.jpg\n",
        "reading image\n",
        "this is shape (800, 800, 3)\n",
        "finding clusters\n",
        "cluster centres:\n"
       ]
      },
      {
       "output_type": "stream",
       "stream": "stdout",
       "text": [
        "[[140 209  84]\n",
        " [ 74   1 125]\n",
        " [114 234  27]]\n",
        "all bins: [ 0.          0.66666667  1.33333333  2.        ]\n",
        "8cd154\n",
        "4a017d\n",
        "72ea1b\n",
        "peak: [114 234  27]\n",
        "most frequent is [114 234  27] (#72ea1b)\n",
        "saved clustered image"
       ]
      },
      {
       "output_type": "stream",
       "stream": "stdout",
       "text": [
        "\n",
        "This is how it will get printed\n",
        "91130-836495829.jpg\n",
        "reading image\n",
        "this is shape (1155, 1270, 3)\n",
        "finding clusters\n",
        "cluster centres:\n"
       ]
      },
      {
       "output_type": "stream",
       "stream": "stdout",
       "text": [
        "[[218  72  37]\n",
        " [231 230 231]\n",
        " [254 254 254]\n",
        " [226 124 100]]\n",
        "all bins:"
       ]
      },
      {
       "output_type": "stream",
       "stream": "stdout",
       "text": [
        " [ 0.    0.75  1.5   2.25  3.  ]\n",
        "da4825\n",
        "e7e6e7\n",
        "fefefe\n",
        "e27c64\n",
        "peak: [254 254 254]\n",
        "most frequent is [254 254 254] (#fefefe)\n",
        "saved clustered image"
       ]
      },
      {
       "output_type": "stream",
       "stream": "stdout",
       "text": [
        "\n",
        "This is how it will get printed\n",
        "logo-540a286ee07b534a6d1eb2be.png\n",
        "reading image\n",
        "this is shape (300, 300, 4)\n",
        "finding clusters\n",
        "cluster centres:\n"
       ]
      },
      {
       "output_type": "stream",
       "stream": "stdout",
       "text": [
        "[[  0   0   0   0]\n",
        " [ 48 129 158 254]\n",
        " [ 62 149 173 252]\n",
        " [252 253 254 255]\n",
        " [ 38 113 145 252]]\n",
        "all bins: [ 0.   0.8  1.6  2.4  3.2  4. ]\n",
        "00000000\n",
        "30819efe\n",
        "3e95adfc\n",
        "fcfdfeff\n",
        "267191fc\n",
        "peak: [0 0 0 0]\n",
        "most frequent is [0 0 0 0] (#00000000)\n",
        "saved clustered image\n",
        "This is how it will get printed\n",
        "apple-logo.png\n",
        "reading image\n",
        "this is shape (555, 676, 4)\n",
        "finding clusters\n",
        "cluster centres:\n"
       ]
      },
      {
       "output_type": "stream",
       "stream": "stdout",
       "text": [
        "[[  0   0   0   0]\n",
        " [240 122  44 254]\n",
        " [254 254 254   0]\n",
        " [ 90 134 134 253]]\n",
        "all bins: [ 0.    0.75  1.5   2.25  3.  ]\n",
        "00000000\n",
        "f07a2cfe\n",
        "fefefe00\n",
        "5a8686fd\n",
        "peak: [254 254 254   0]\n",
        "most frequent is [254 254 254   0] (#fefefe00)\n",
        "saved clustered image"
       ]
      },
      {
       "output_type": "stream",
       "stream": "stdout",
       "text": [
        "\n",
        "This is how it will get printed\n",
        "merchbar.png\n",
        "reading image\n",
        "this is shape (697, 1039, 3)\n",
        "finding clusters\n",
        "cluster centres:\n"
       ]
      },
      {
       "output_type": "stream",
       "stream": "stdout",
       "text": [
        "[[254 254 254]\n",
        " [196 114  78]\n",
        " [ 66 118 179]]\n",
        "all bins: [ 0.          0.66666667  1.33333333  2.        ]\n",
        "fefefe\n",
        "c4724e\n",
        "4276b3\n",
        "peak: [254 254 254]\n",
        "most frequent is [254 254 254] (#fefefe)\n",
        "saved clustered image"
       ]
      },
      {
       "output_type": "stream",
       "stream": "stdout",
       "text": [
        "\n",
        "This is how it will get printed\n",
        "Logo-orange-brown.png\n",
        "reading image\n",
        "this is shape (131, 320, 4)\n",
        "finding clusters\n",
        "cluster centres:\n"
       ]
      },
      {
       "output_type": "stream",
       "stream": "stdout",
       "text": [
        "[[152 141 136   2]\n",
        " [132  89  54   5]\n",
        " [245 126   2 255]\n",
        " [248 247 247   0]\n",
        " [ 74  53  43 248]]\n",
        "all bins: [ 0.   0.8  1.6  2.4  3.2  4. ]\n",
        "988d8802\n",
        "84593605\n",
        "f57e02ff\n",
        "f8f7f700\n",
        "4a352bf8\n",
        "peak: [152 141 136   2]\n",
        "most frequent is [152 141 136   2] (#988d8802)\n",
        "saved clustered image\n",
        "This is how it will get printed\n",
        "medium.jpg\n",
        "reading image\n",
        "this is shape (200, 200, 3)\n",
        "finding clusters\n",
        "cluster centres:\n"
       ]
      },
      {
       "output_type": "stream",
       "stream": "stdout",
       "text": [
        "[[240 187  84]\n",
        " [254 253 245]\n",
        " [245 202 104]\n",
        " [248 224 124]\n",
        " [225 146  64]]\n",
        "all bins: [ 0.   0.8  1.6  2.4  3.2  4. ]\n",
        "f0bb54\n",
        "fefdf5\n",
        "f5ca68\n",
        "f8e07c\n",
        "e19240\n",
        "peak: [248 224 124]\n",
        "most frequent is [248 224 124] (#f8e07c)\n",
        "saved clustered image\n",
        "This is how it will get printed\n",
        "gopro.png\n",
        "reading image\n",
        "this is shape (600, 591, 3)\n",
        "finding clusters\n",
        "cluster centres:\n"
       ]
      },
      {
       "output_type": "stream",
       "stream": "stdout",
       "text": [
        "[[129 164 149]\n",
        " [253 253 253]\n",
        " [ 10  89 102]\n",
        " [201  54  12]\n",
        " [214 232 119]]\n",
        "all bins: [ 0.   0.8  1.6  2.4  3.2  4. ]\n",
        "81a495\n",
        "fdfdfd\n",
        "0a5966\n",
        "c9360c\n",
        "d6e877\n",
        "peak: [253 253 253]\n",
        "most frequent is [253 253 253] (#fdfdfd)\n",
        "saved clustered image"
       ]
      },
      {
       "output_type": "stream",
       "stream": "stdout",
       "text": [
        "\n",
        "This is how it will get printed\n",
        "dexter.png\n",
        "reading image\n",
        "this is shape"
       ]
      },
      {
       "ename": "KeyboardInterrupt",
       "evalue": "",
       "output_type": "pyerr",
       "traceback": [
        "\u001b[0;31m---------------------------------------------------------------------------\u001b[0m\n\u001b[0;31mKeyboardInterrupt\u001b[0m                         Traceback (most recent call last)",
        "\u001b[0;32m<ipython-input-21-a608fffc2e05>\u001b[0m in \u001b[0;36m<module>\u001b[0;34m()\u001b[0m\n\u001b[1;32m     15\u001b[0m \u001b[0;34m\u001b[0m\u001b[0m\n\u001b[1;32m     16\u001b[0m         \u001b[0;32mprint\u001b[0m \u001b[0;34m'finding clusters'\u001b[0m\u001b[0;34m\u001b[0m\u001b[0m\n\u001b[0;32m---> 17\u001b[0;31m         \u001b[0mcodes\u001b[0m\u001b[0;34m,\u001b[0m \u001b[0mdist\u001b[0m \u001b[0;34m=\u001b[0m \u001b[0mscipy\u001b[0m\u001b[0;34m.\u001b[0m\u001b[0mcluster\u001b[0m\u001b[0;34m.\u001b[0m\u001b[0mvq\u001b[0m\u001b[0;34m.\u001b[0m\u001b[0mkmeans\u001b[0m\u001b[0;34m(\u001b[0m\u001b[0mar\u001b[0m\u001b[0;34m,\u001b[0m \u001b[0mNUM_CLUSTERS\u001b[0m\u001b[0;34m)\u001b[0m\u001b[0;34m\u001b[0m\u001b[0m\n\u001b[0m\u001b[1;32m     18\u001b[0m         \u001b[0;32mprint\u001b[0m \u001b[0;34m'cluster centres:\\n'\u001b[0m\u001b[0;34m,\u001b[0m \u001b[0mcodes\u001b[0m\u001b[0;34m\u001b[0m\u001b[0m\n\u001b[1;32m     19\u001b[0m \u001b[0;34m\u001b[0m\u001b[0m\n",
        "\u001b[0;32m/usr/local/lib/python2.7/dist-packages/scipy/cluster/vq.pyc\u001b[0m in \u001b[0;36mkmeans\u001b[0;34m(obs, k_or_guess, iter, thresh)\u001b[0m\n\u001b[1;32m    518\u001b[0m             \u001b[0;31m# the initial code book is randomly selected from observations\u001b[0m\u001b[0;34m\u001b[0m\u001b[0;34m\u001b[0m\u001b[0m\n\u001b[1;32m    519\u001b[0m             \u001b[0mguess\u001b[0m \u001b[0;34m=\u001b[0m \u001b[0mtake\u001b[0m\u001b[0;34m(\u001b[0m\u001b[0mobs\u001b[0m\u001b[0;34m,\u001b[0m \u001b[0mrandint\u001b[0m\u001b[0;34m(\u001b[0m\u001b[0;36m0\u001b[0m\u001b[0;34m,\u001b[0m \u001b[0mNo\u001b[0m\u001b[0;34m,\u001b[0m \u001b[0mk\u001b[0m\u001b[0;34m)\u001b[0m\u001b[0;34m,\u001b[0m \u001b[0;36m0\u001b[0m\u001b[0;34m)\u001b[0m\u001b[0;34m\u001b[0m\u001b[0m\n\u001b[0;32m--> 520\u001b[0;31m             \u001b[0mbook\u001b[0m\u001b[0;34m,\u001b[0m \u001b[0mdist\u001b[0m \u001b[0;34m=\u001b[0m \u001b[0m_kmeans\u001b[0m\u001b[0;34m(\u001b[0m\u001b[0mobs\u001b[0m\u001b[0;34m,\u001b[0m \u001b[0mguess\u001b[0m\u001b[0;34m,\u001b[0m \u001b[0mthresh\u001b[0m\u001b[0;34m=\u001b[0m\u001b[0mthresh\u001b[0m\u001b[0;34m)\u001b[0m\u001b[0;34m\u001b[0m\u001b[0m\n\u001b[0m\u001b[1;32m    521\u001b[0m             \u001b[0;32mif\u001b[0m \u001b[0mdist\u001b[0m \u001b[0;34m<\u001b[0m \u001b[0mbest_dist\u001b[0m\u001b[0;34m:\u001b[0m\u001b[0;34m\u001b[0m\u001b[0m\n\u001b[1;32m    522\u001b[0m                 \u001b[0mbest_book\u001b[0m \u001b[0;34m=\u001b[0m \u001b[0mbook\u001b[0m\u001b[0;34m\u001b[0m\u001b[0m\n",
        "\u001b[0;32m/usr/local/lib/python2.7/dist-packages/scipy/cluster/vq.pyc\u001b[0m in \u001b[0;36m_kmeans\u001b[0;34m(obs, guess, thresh)\u001b[0m\n\u001b[1;32m    399\u001b[0m             \u001b[0mhas_members\u001b[0m \u001b[0;34m=\u001b[0m \u001b[0;34m[\u001b[0m\u001b[0;34m]\u001b[0m\u001b[0;34m\u001b[0m\u001b[0m\n\u001b[1;32m    400\u001b[0m             \u001b[0;32mfor\u001b[0m \u001b[0mi\u001b[0m \u001b[0;32min\u001b[0m \u001b[0marange\u001b[0m\u001b[0;34m(\u001b[0m\u001b[0mnc\u001b[0m\u001b[0;34m)\u001b[0m\u001b[0;34m:\u001b[0m\u001b[0;34m\u001b[0m\u001b[0m\n\u001b[0;32m--> 401\u001b[0;31m                 \u001b[0mcell_members\u001b[0m \u001b[0;34m=\u001b[0m \u001b[0mcompress\u001b[0m\u001b[0;34m(\u001b[0m\u001b[0mequal\u001b[0m\u001b[0;34m(\u001b[0m\u001b[0mobs_code\u001b[0m\u001b[0;34m,\u001b[0m \u001b[0mi\u001b[0m\u001b[0;34m)\u001b[0m\u001b[0;34m,\u001b[0m \u001b[0mobs\u001b[0m\u001b[0;34m,\u001b[0m \u001b[0;36m0\u001b[0m\u001b[0;34m)\u001b[0m\u001b[0;34m\u001b[0m\u001b[0m\n\u001b[0m\u001b[1;32m    402\u001b[0m                 \u001b[0;32mif\u001b[0m \u001b[0mcell_members\u001b[0m\u001b[0;34m.\u001b[0m\u001b[0mshape\u001b[0m\u001b[0;34m[\u001b[0m\u001b[0;36m0\u001b[0m\u001b[0;34m]\u001b[0m \u001b[0;34m>\u001b[0m \u001b[0;36m0\u001b[0m\u001b[0;34m:\u001b[0m\u001b[0;34m\u001b[0m\u001b[0m\n\u001b[1;32m    403\u001b[0m                     \u001b[0mcode_book\u001b[0m\u001b[0;34m[\u001b[0m\u001b[0mi\u001b[0m\u001b[0;34m]\u001b[0m \u001b[0;34m=\u001b[0m \u001b[0mmean\u001b[0m\u001b[0;34m(\u001b[0m\u001b[0mcell_members\u001b[0m\u001b[0;34m,\u001b[0m \u001b[0;36m0\u001b[0m\u001b[0;34m)\u001b[0m\u001b[0;34m\u001b[0m\u001b[0m\n",
        "\u001b[0;32m/usr/local/lib/python2.7/dist-packages/numpy/core/fromnumeric.pyc\u001b[0m in \u001b[0;36mcompress\u001b[0;34m(condition, a, axis, out)\u001b[0m\n\u001b[1;32m   1561\u001b[0m     \u001b[0;32mexcept\u001b[0m \u001b[0mAttributeError\u001b[0m\u001b[0;34m:\u001b[0m\u001b[0;34m\u001b[0m\u001b[0m\n\u001b[1;32m   1562\u001b[0m         \u001b[0;32mreturn\u001b[0m \u001b[0m_wrapit\u001b[0m\u001b[0;34m(\u001b[0m\u001b[0ma\u001b[0m\u001b[0;34m,\u001b[0m \u001b[0;34m'compress'\u001b[0m\u001b[0;34m,\u001b[0m \u001b[0mcondition\u001b[0m\u001b[0;34m,\u001b[0m \u001b[0maxis\u001b[0m\u001b[0;34m,\u001b[0m \u001b[0mout\u001b[0m\u001b[0;34m)\u001b[0m\u001b[0;34m\u001b[0m\u001b[0m\n\u001b[0;32m-> 1563\u001b[0;31m     \u001b[0;32mreturn\u001b[0m \u001b[0mcompress\u001b[0m\u001b[0;34m(\u001b[0m\u001b[0mcondition\u001b[0m\u001b[0;34m,\u001b[0m \u001b[0maxis\u001b[0m\u001b[0;34m,\u001b[0m \u001b[0mout\u001b[0m\u001b[0;34m)\u001b[0m\u001b[0;34m\u001b[0m\u001b[0m\n\u001b[0m\u001b[1;32m   1564\u001b[0m \u001b[0;34m\u001b[0m\u001b[0m\n\u001b[1;32m   1565\u001b[0m \u001b[0;34m\u001b[0m\u001b[0m\n",
        "\u001b[0;31mKeyboardInterrupt\u001b[0m: "
       ]
      },
      {
       "output_type": "stream",
       "stream": "stdout",
       "text": [
        " (1600, 1497, 4)\n",
        "finding clusters\n"
       ]
      }
     ],
     "prompt_number": 21
    },
    {
     "cell_type": "code",
     "collapsed": false,
     "input": [
      "for file_name in os.listdir('.'):\n",
      "    if (\"png\"  in file_name or \"jpg\" in file_name) :\n",
      "        print file_name \n",
      "    "
     ],
     "language": "python",
     "metadata": {},
     "outputs": [
      {
       "output_type": "stream",
       "stream": "stdout",
       "text": [
        "rapt.png\n",
        "logo-536d49e44a95f41663a84ed2.png\n",
        "c2color.jpg\n",
        "91130-836495829.jpg\n",
        "logo-540a286ee07b534a6d1eb2be.png\n",
        "apple-logo.png\n",
        "merchbar.png\n",
        "Logo-orange-brown.png\n",
        "medium.jpg\n",
        "gopro.png\n",
        "dexter.png\n",
        "logo-blue-lg.png\n",
        "everex.png\n",
        "4color.jpg\n",
        "logo-54b9660efec38f0b0ca4ba76.png\n",
        "zen_tao_stones_wallpaper_balance_peace.jpg\n",
        "Flinto-logo.png\n",
        "image.jpg\n",
        "logo1.png\n",
        "scaled-logo-orange.png\n",
        "logo-536d479d4a95f41663a84eae.png\n",
        "3_buddha.jpg\n",
        "7 buddha (www.cute-pictures.blogspot.com).jpg\n",
        "clusters.png\n",
        "kangaroo.png\n",
        "image_boomerang.jpg\n"
       ]
      }
     ],
     "prompt_number": 20
    }
   ],
   "metadata": {}
  }
 ]
}